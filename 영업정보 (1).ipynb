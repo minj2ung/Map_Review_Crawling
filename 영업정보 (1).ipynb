{
 "cells": [
  {
   "cell_type": "code",
   "execution_count": 1,
   "metadata": {},
   "outputs": [],
   "source": [
    "from bs4 import BeautifulSoup\n",
    "import requests\n",
    "from urllib.request import urlopen\n",
    "import json\n",
    "import time\n",
    "import re\n",
    "from selenium import webdriver\n",
    "from selenium.webdriver.common.keys import Keys\n",
    "from selenium.common.exceptions import NoSuchElementException\n",
    "from selenium.common.exceptions import ElementNotVisibleException\n",
    "import pandas as pd"
   ]
  },
  {
   "cell_type": "code",
   "execution_count": 2,
   "metadata": {},
   "outputs": [],
   "source": [
    "store_number_lst = ['21726749', '34582591','1670762252']"
   ]
  },
  {
   "cell_type": "code",
   "execution_count": 3,
   "metadata": {},
   "outputs": [],
   "source": [
    "store_number = store_number_lst[1] \n",
    "options = webdriver.ChromeOptions()\n",
    "# options.add_argument('headless')#창 안 뜨게 설정\n",
    "review_driver = webdriver.Chrome('./chromedriver.exe',options=options)# 크롬 경로\n",
    "review_driver.implicitly_wait(3)\n",
    "\n",
    "#url 접속\n",
    "review_url = 'https://pcmap.place.naver.com/restaurant/'+store_number+'/home?from=map&amp;fromPanelNum=2&amp'\n",
    "review_driver.get(review_url)\n",
    "time.sleep(5)"
   ]
  },
  {
   "cell_type": "code",
   "execution_count": 4,
   "metadata": {},
   "outputs": [],
   "source": [
    "html_cleaner = re.compile('<.*?>')"
   ]
  },
  {
   "cell_type": "code",
   "execution_count": 20,
   "metadata": {},
   "outputs": [],
   "source": [
    "def store_info(soup):\n",
    "    store_name = [] #이름\n",
    "    store_location = [] #위치\n",
    "    store_subway= [] #역으로부터의 거리\n",
    "    store_hour=[] #영업시간\n",
    "    store_detail1 = [\"\"] #정보1\n",
    "    store_detail2 = [] #정보2\n",
    "    \n",
    "    store_name=soup.find('span', {'class': '_3XamX'}) #이름\n",
    "    store_name=re.sub(html_cleaner, \"\", str(store_name))\n",
    " \n",
    "    store_location = soup.find('span',{'class':'_2yqUQ'}) #위치\n",
    "    store_location = re.sub(html_cleaner,\"\",str(store_location))\n",
    "        \n",
    "    store_subway = soup.find('div',{'class':'_2P6sT'}) #역으로부터 거리\n",
    "    store_subway = re.sub(html_cleaner,\"\",str(store_subway))\n",
    "        \n",
    "    open_time = soup.find_all('span',{'class':'_20pEw'}) #영업시간\n",
    "    hour_string = \" \"\n",
    "    for hour in open_time:\n",
    "        hour = re.sub(html_cleaner,\"\",str(hour))\n",
    "        hour_string += hour\n",
    "    store_hour.append(hour_string)\n",
    "\n",
    "    div_format = re.compile('<div class=\"_1h3B_\">'+'[가-힣]+') \n",
    "    \n",
    "    store_extrainfo = main_soup.find_all('div',{'class':'_1h3B_'}) #정보1\n",
    "    for information in store_extrainfo:\n",
    "        if div_format.search(str(information)):\n",
    "            extra_info = re.sub(html_cleaner , \"\", str(information))\n",
    "    store_detail1[0] = extra_info\n",
    "           \n",
    "     \n",
    "    store_detail2 = soup.find('span',{'class':'WoYOw'}) #정보2\n",
    "    store_detail2 = re.sub(html_cleaner,\"\",str(store_detail2))\n",
    "\n",
    "                               \n",
    "    #데이터 프레임으로 만들기 \n",
    "    store_info = pd.DataFrame({'이름':store_name,'위치':store_location,'역으로부터 위치':store_subway,'영업시간':store_hour,'영업상세정보': store_detail1, '영업정보': store_detail2})\n",
    "    \n",
    "    return store_info "
   ]
  },
  {
   "cell_type": "code",
   "execution_count": 7,
   "metadata": {},
   "outputs": [],
   "source": [
    "main_html = review_driver.page_source\n",
    "main_soup = BeautifulSoup(main_html,'html.parser')"
   ]
  },
  {
   "cell_type": "code",
   "execution_count": 21,
   "metadata": {
    "scrolled": true
   },
   "outputs": [
    {
     "data": {
      "text/html": [
       "<div>\n",
       "<style scoped>\n",
       "    .dataframe tbody tr th:only-of-type {\n",
       "        vertical-align: middle;\n",
       "    }\n",
       "\n",
       "    .dataframe tbody tr th {\n",
       "        vertical-align: top;\n",
       "    }\n",
       "\n",
       "    .dataframe thead th {\n",
       "        text-align: right;\n",
       "    }\n",
       "</style>\n",
       "<table border=\"1\" class=\"dataframe\">\n",
       "  <thead>\n",
       "    <tr style=\"text-align: right;\">\n",
       "      <th></th>\n",
       "      <th>이름</th>\n",
       "      <th>위치</th>\n",
       "      <th>역으로부터 위치</th>\n",
       "      <th>영업시간</th>\n",
       "      <th>영업상세정보</th>\n",
       "      <th>영업정보</th>\n",
       "    </tr>\n",
       "  </thead>\n",
       "  <tbody>\n",
       "    <tr>\n",
       "      <th>0</th>\n",
       "      <td>투썸플레이스 종각역점</td>\n",
       "      <td>서울 종로구 종로 72</td>\n",
       "      <td>1종각역 4번 출구에서127m</td>\n",
       "      <td>평일 08:00 - 23:30 토요일 08:30 - 23:30 일요일 09:00 ...</td>\n",
       "      <td>단체석, 포장, 예약, 무선 인터넷, 남/녀 화장실 구분, 국민지원금</td>\n",
       "      <td>종각역 10번 출구에서 10미터 거리에 있으며, YMCA본사 맞은편, 젊음의 거리 ...</td>\n",
       "    </tr>\n",
       "  </tbody>\n",
       "</table>\n",
       "</div>"
      ],
      "text/plain": [
       "            이름            위치          역으로부터 위치  \\\n",
       "0  투썸플레이스 종각역점  서울 종로구 종로 72  1종각역 4번 출구에서127m   \n",
       "\n",
       "                                                영업시간  \\\n",
       "0   평일 08:00 - 23:30 토요일 08:30 - 23:30 일요일 09:00 ...   \n",
       "\n",
       "                                   영업상세정보  \\\n",
       "0  단체석, 포장, 예약, 무선 인터넷, 남/녀 화장실 구분, 국민지원금   \n",
       "\n",
       "                                                영업정보  \n",
       "0  종각역 10번 출구에서 10미터 거리에 있으며, YMCA본사 맞은편, 젊음의 거리 ...  "
      ]
     },
     "execution_count": 21,
     "metadata": {},
     "output_type": "execute_result"
    }
   ],
   "source": [
    "store_info(main_soup)"
   ]
  }
 ],
 "metadata": {
  "kernelspec": {
   "display_name": "Python 3",
   "language": "python",
   "name": "python3"
  },
  "language_info": {
   "codemirror_mode": {
    "name": "ipython",
    "version": 3
   },
   "file_extension": ".py",
   "mimetype": "text/x-python",
   "name": "python",
   "nbconvert_exporter": "python",
   "pygments_lexer": "ipython3",
   "version": "3.8.3"
  }
 },
 "nbformat": 4,
 "nbformat_minor": 4
}
